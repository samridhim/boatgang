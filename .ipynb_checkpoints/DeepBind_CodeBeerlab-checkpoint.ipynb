{
 "cells": [
  {
   "cell_type": "code",
   "execution_count": 1,
   "metadata": {
    "scrolled": true
   },
   "outputs": [
    {
     "name": "stderr",
     "output_type": "stream",
     "text": [
      "Using TensorFlow backend.\n"
     ]
    }
   ],
   "source": [
    "import numpy as np\n",
    "import pandas as pd\n",
    "import keras\n",
    "import warnings\n",
    "warnings.filterwarnings(\"ignore\")"
   ]
  },
  {
   "cell_type": "code",
   "execution_count": 2,
   "metadata": {},
   "outputs": [
    {
     "data": {
      "text/html": [
       "<div>\n",
       "<style scoped>\n",
       "    .dataframe tbody tr th:only-of-type {\n",
       "        vertical-align: middle;\n",
       "    }\n",
       "\n",
       "    .dataframe tbody tr th {\n",
       "        vertical-align: top;\n",
       "    }\n",
       "\n",
       "    .dataframe thead th {\n",
       "        text-align: right;\n",
       "    }\n",
       "</style>\n",
       "<table border=\"1\" class=\"dataframe\">\n",
       "  <thead>\n",
       "    <tr style=\"text-align: right;\">\n",
       "      <th></th>\n",
       "      <th>0</th>\n",
       "      <th>1</th>\n",
       "      <th>2</th>\n",
       "    </tr>\n",
       "  </thead>\n",
       "  <tbody>\n",
       "    <tr>\n",
       "      <th>0</th>\n",
       "      <td>0</td>\n",
       "      <td>TTTTCATACTTTCCGCAAGAGTGGAAGCCCCAGGGATCCACGTTTC...</td>\n",
       "      <td>1</td>\n",
       "    </tr>\n",
       "    <tr>\n",
       "      <th>1</th>\n",
       "      <td>1</td>\n",
       "      <td>GGACATAAGTGCATTCACCTGCTGGATGGCGTAAGGGCTGAAGGCT...</td>\n",
       "      <td>1</td>\n",
       "    </tr>\n",
       "    <tr>\n",
       "      <th>2</th>\n",
       "      <td>2</td>\n",
       "      <td>GTGATGGGGCGGACACCAGCGGCTGTCTGTGTGTGGCTTTAGACAG...</td>\n",
       "      <td>1</td>\n",
       "    </tr>\n",
       "    <tr>\n",
       "      <th>3</th>\n",
       "      <td>3</td>\n",
       "      <td>CGGCCAGACCCTCAGGACCAAGGTCGGGTGCTGTCCGTTGGAGGGT...</td>\n",
       "      <td>1</td>\n",
       "    </tr>\n",
       "    <tr>\n",
       "      <th>4</th>\n",
       "      <td>4</td>\n",
       "      <td>AGATGCATAAAATTTGCAATACCTCCCCCGTGGTGCACCAAAATTA...</td>\n",
       "      <td>1</td>\n",
       "    </tr>\n",
       "  </tbody>\n",
       "</table>\n",
       "</div>"
      ],
      "text/plain": [
       "   0                                                  1  2\n",
       "0  0  TTTTCATACTTTCCGCAAGAGTGGAAGCCCCAGGGATCCACGTTTC...  1\n",
       "1  1  GGACATAAGTGCATTCACCTGCTGGATGGCGTAAGGGCTGAAGGCT...  1\n",
       "2  2  GTGATGGGGCGGACACCAGCGGCTGTCTGTGTGTGGCTTTAGACAG...  1\n",
       "3  3  CGGCCAGACCCTCAGGACCAAGGTCGGGTGCTGTCCGTTGGAGGGT...  1\n",
       "4  4  AGATGCATAAAATTTGCAATACCTCCCCCGTGGTGCACCAAAATTA...  1"
      ]
     },
     "execution_count": 2,
     "metadata": {},
     "output_type": "execute_result"
    }
   ],
   "source": [
    "df= pd.read_csv(\"/home/samridhi/boatgang/beerlabcsv.csv\", header=None, skiprows=1)\n",
    "df.head()"
   ]
  },
  {
   "cell_type": "code",
   "execution_count": 3,
   "metadata": {},
   "outputs": [
    {
     "data": {
      "text/plain": [
       "(4976, 3)"
      ]
     },
     "execution_count": 3,
     "metadata": {},
     "output_type": "execute_result"
    }
   ],
   "source": [
    "df.shape"
   ]
  },
  {
   "cell_type": "code",
   "execution_count": 4,
   "metadata": {},
   "outputs": [],
   "source": [
    "temp_sequences=df[1]\n",
    "temp_target=df[2]"
   ]
  },
  {
   "cell_type": "code",
   "execution_count": 8,
   "metadata": {},
   "outputs": [
    {
     "name": "stdout",
     "output_type": "stream",
     "text": [
      "496\n",
      "4899\n"
     ]
    }
   ],
   "source": [
    "maxx=-99999\n",
    "index=-1\n",
    "j=0\n",
    "temp_sequences2=[]\n",
    "temp_targets = []\n",
    "for i in range(len(temp_sequences)):    \n",
    "    if len(temp_sequences[i])<=500:\n",
    "        temp_sequences2.append(temp_sequences[i])\n",
    "        temp_targets.append(temp_target[i]) \n",
    "\n",
    "for i in range(len(temp_sequences2)):\n",
    "    if len(temp_sequences2[i])>maxx:\n",
    "        maxx=len(temp_sequences2[i])\n",
    "        index=i\n",
    "        \n",
    "print(maxx)\n",
    "print(len(temp_sequences2))"
   ]
  },
  {
   "cell_type": "markdown",
   "metadata": {},
   "source": [
    "temp_sequences2 has 4899 and the sequence with max length is 496\n",
    "Now we have to pad all sequences so that they have a length of 518 (9 padding on top and 9 on the bottom)"
   ]
  },
  {
   "cell_type": "code",
   "execution_count": 9,
   "metadata": {},
   "outputs": [],
   "source": [
    "dict_i = {\"A\" : 0, \"C\": 1, \"G\": 2, \"T\" : 3}"
   ]
  },
  {
   "cell_type": "code",
   "execution_count": 10,
   "metadata": {},
   "outputs": [],
   "source": [
    "def one_hot_encode(s):\n",
    "    i=0\n",
    "    ohe = np.zeros((len(s), 4))\n",
    "    for k in s:\n",
    "        ohe[i,dict_i[k]] = 1\n",
    "        i+=1\n",
    "    return ohe"
   ]
  },
  {
   "cell_type": "code",
   "execution_count": 11,
   "metadata": {},
   "outputs": [
    {
     "name": "stdout",
     "output_type": "stream",
     "text": [
      "(4899, 500, 4)\n"
     ]
    }
   ],
   "source": [
    "# ohe_sequences = np.zeros((4976,333,4), dtype=np.float64)\n",
    "# i=0\n",
    "\n",
    "# for s in temp_sequences:\n",
    "#     without_padding= np.array(one_hot_encode(s)).astype(\"float64\")\n",
    "#     with_padding=np.pad(without_padding,((9,9),(0,0)) ,'constant',constant_values=(0.25,0.25))\n",
    "#     ohe_sequences[i]=with_padding\n",
    "#     i=i+1\n",
    "# print(ohe_sequences)\n",
    "\n",
    "temp_ohe_sequences = np.zeros((4899,500,4), dtype=np.float64)\n",
    "i=0\n",
    "\n",
    "for s in temp_sequences2:\n",
    "    difference= 500 - len(s)\n",
    "    without_padding= np.array(one_hot_encode(s)).astype(\"float64\")\n",
    "    with_padding=np.pad(without_padding,((0,difference),(0,0)) ,'constant',constant_values=(0.25,0.25))\n",
    "    temp_ohe_sequences[i]=with_padding\n",
    "    i=i+1\n",
    "print(temp_ohe_sequences.shape)"
   ]
  },
  {
   "cell_type": "code",
   "execution_count": 12,
   "metadata": {},
   "outputs": [],
   "source": [
    "from keras.models import Sequential\n",
    "from keras.layers import Dense\n",
    "from keras.layers import Conv1D\n",
    "from keras.layers import MaxPooling1D\n",
    "from keras.layers import Dropout,Flatten\n",
    "from sklearn.utils import shuffle\n",
    "from sklearn.model_selection import train_test_split"
   ]
  },
  {
   "cell_type": "markdown",
   "metadata": {},
   "source": [
    "We used the Keras deep learning framework (https://github.com/keras-team/keras) to train a CNN to classify\n",
    "the sequences. The sequences were represented using a one-hot encoding with 4 channels (A, C, G and T). The\n",
    "CNN architecture is as follows: Layer 1 is a convolutional layer with 40 filters of size 19 and ReLU activation\n",
    "operating on one-hot encoded input sequences. Layer 2 is a max pooling layer of pool length 10. Layer 3 is a\n",
    "fully connected layer of size 200 with dropout (p=0.5) and ReLU activation. Layer 4 is a fully connected layer\n",
    "with a sigmoid activation. The model was trained with the Adam optimizer and binary cross-entropy loss until\n",
    "no improvement was seen for 3 epochs on the validation set. The datasets, code and model are available at"
   ]
  },
  {
   "cell_type": "code",
   "execution_count": 18,
   "metadata": {},
   "outputs": [],
   "source": [
    "model = Sequential()\n",
    "model.add(Conv1D(filters=30, kernel_size=10, strides=1, activation='relu', input_shape=(500,4)))"
   ]
  },
  {
   "cell_type": "code",
   "execution_count": 19,
   "metadata": {},
   "outputs": [],
   "source": [
    "model.add(MaxPooling1D(pool_size=491, strides=1))"
   ]
  },
  {
   "cell_type": "code",
   "execution_count": 20,
   "metadata": {},
   "outputs": [],
   "source": [
    "model.add(Flatten())\n",
    "model.add(Dense(32, activation='relu'))"
   ]
  },
  {
   "cell_type": "code",
   "execution_count": 21,
   "metadata": {},
   "outputs": [],
   "source": [
    "model.add(Dense(1, activation='sigmoid'))"
   ]
  },
  {
   "cell_type": "code",
   "execution_count": 22,
   "metadata": {},
   "outputs": [
    {
     "name": "stdout",
     "output_type": "stream",
     "text": [
      "_________________________________________________________________\n",
      "Layer (type)                 Output Shape              Param #   \n",
      "=================================================================\n",
      "conv1d_2 (Conv1D)            (None, 491, 30)           1230      \n",
      "_________________________________________________________________\n",
      "max_pooling1d_2 (MaxPooling1 (None, 1, 30)             0         \n",
      "_________________________________________________________________\n",
      "flatten_3 (Flatten)          (None, 30)                0         \n",
      "_________________________________________________________________\n",
      "dense_3 (Dense)              (None, 32)                992       \n",
      "_________________________________________________________________\n",
      "dense_4 (Dense)              (None, 1)                 33        \n",
      "=================================================================\n",
      "Total params: 2,255\n",
      "Trainable params: 2,255\n",
      "Non-trainable params: 0\n",
      "_________________________________________________________________\n"
     ]
    }
   ],
   "source": [
    "model.summary()"
   ]
  },
  {
   "cell_type": "code",
   "execution_count": 23,
   "metadata": {},
   "outputs": [],
   "source": [
    "model.compile(loss='binary_crossentropy', optimizer='Adam', metrics=['accuracy'])"
   ]
  },
  {
   "cell_type": "code",
   "execution_count": null,
   "metadata": {},
   "outputs": [],
   "source": []
  },
  {
   "cell_type": "code",
   "execution_count": 24,
   "metadata": {},
   "outputs": [],
   "source": [
    "data_train, data_test, labels_train, labels_test = train_test_split(temp_ohe_sequences, temp_targets, test_size=0.20, random_state=42, shuffle = True)"
   ]
  },
  {
   "cell_type": "code",
   "execution_count": 25,
   "metadata": {},
   "outputs": [
    {
     "name": "stdout",
     "output_type": "stream",
     "text": [
      "Epoch 1/10\n",
      "3919/3919 [==============================] - 4s 1ms/step - loss: 0.6920 - acc: 0.5216\n",
      "Epoch 2/10\n",
      "3919/3919 [==============================] - 1s 362us/step - loss: 0.6708 - acc: 0.5999\n",
      "Epoch 3/10\n",
      "3919/3919 [==============================] - 1s 358us/step - loss: 0.6300 - acc: 0.6581\n",
      "Epoch 4/10\n",
      "3919/3919 [==============================] - 1s 362us/step - loss: 0.5613 - acc: 0.7362\n",
      "Epoch 5/10\n",
      "3919/3919 [==============================] - 1s 362us/step - loss: 0.4761 - acc: 0.8081\n",
      "Epoch 6/10\n",
      "3919/3919 [==============================] - ETA: 0s - loss: 0.4055 - acc: 0.838 - 1s 361us/step - loss: 0.4062 - acc: 0.8380\n",
      "Epoch 7/10\n",
      "3919/3919 [==============================] - 1s 364us/step - loss: 0.3557 - acc: 0.8617\n",
      "Epoch 8/10\n",
      "3919/3919 [==============================] - 1s 365us/step - loss: 0.3207 - acc: 0.8785\n",
      "Epoch 9/10\n",
      "3919/3919 [==============================] - 1s 364us/step - loss: 0.3036 - acc: 0.8765\n",
      "Epoch 10/10\n",
      "3919/3919 [==============================] - 1s 363us/step - loss: 0.2826 - acc: 0.8857\n"
     ]
    },
    {
     "data": {
      "text/plain": [
       "<keras.callbacks.History at 0x7f4e8b98ccd0>"
      ]
     },
     "execution_count": 25,
     "metadata": {},
     "output_type": "execute_result"
    }
   ],
   "source": [
    "model.fit(data_train, labels_train, epochs=10, verbose=1)"
   ]
  },
  {
   "cell_type": "code",
   "execution_count": 26,
   "metadata": {},
   "outputs": [
    {
     "name": "stdout",
     "output_type": "stream",
     "text": [
      "980/980 [==============================] - 0s 239us/step\n",
      "('Test loss ', 0.3467395991695171)\n",
      "('Test acc ', 0.8510204081632653)\n"
     ]
    }
   ],
   "source": [
    "scores = model.evaluate(data_test, labels_test)\n",
    "print (\"Test loss \", scores[0])\n",
    "print (\"Test acc \", scores[1])"
   ]
  },
  {
   "cell_type": "code",
   "execution_count": null,
   "metadata": {},
   "outputs": [],
   "source": [
    "model.get_config()"
   ]
  },
  {
   "cell_type": "code",
   "execution_count": null,
   "metadata": {
    "collapsed": true
   },
   "outputs": [],
   "source": []
  },
  {
   "cell_type": "code",
   "execution_count": 98,
   "metadata": {},
   "outputs": [
    {
     "name": "stdout",
     "output_type": "stream",
     "text": [
      "(4899, 500, 4)\n"
     ]
    }
   ],
   "source": []
  },
  {
   "cell_type": "code",
   "execution_count": null,
   "metadata": {
    "collapsed": true
   },
   "outputs": [],
   "source": []
  },
  {
   "cell_type": "code",
   "execution_count": null,
   "metadata": {
    "collapsed": true
   },
   "outputs": [],
   "source": []
  },
  {
   "cell_type": "code",
   "execution_count": null,
   "metadata": {
    "collapsed": true
   },
   "outputs": [],
   "source": []
  }
 ],
 "metadata": {
  "kernelspec": {
   "display_name": "Python 2",
   "language": "python",
   "name": "python2"
  },
  "language_info": {
   "codemirror_mode": {
    "name": "ipython",
    "version": 2
   },
   "file_extension": ".py",
   "mimetype": "text/x-python",
   "name": "python",
   "nbconvert_exporter": "python",
   "pygments_lexer": "ipython2",
   "version": "2.7.15"
  }
 },
 "nbformat": 4,
 "nbformat_minor": 2
}
