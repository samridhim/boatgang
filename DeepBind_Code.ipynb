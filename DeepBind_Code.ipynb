{
 "cells": [
  {
   "cell_type": "code",
   "execution_count": 1,
   "metadata": {},
   "outputs": [
    {
     "name": "stderr",
     "output_type": "stream",
     "text": [
      "Using TensorFlow backend.\n"
     ]
    }
   ],
   "source": [
    "import numpy as np\n",
    "import pandas as pd\n",
    "import keras\n",
    "import warnings\n",
    "warnings.filterwarnings(\"ignore\")"
   ]
  },
  {
   "cell_type": "code",
   "execution_count": 3,
   "metadata": {},
   "outputs": [
    {
     "data": {
      "text/html": [
       "<div>\n",
       "<style scoped>\n",
       "    .dataframe tbody tr th:only-of-type {\n",
       "        vertical-align: middle;\n",
       "    }\n",
       "\n",
       "    .dataframe tbody tr th {\n",
       "        vertical-align: top;\n",
       "    }\n",
       "\n",
       "    .dataframe thead th {\n",
       "        text-align: right;\n",
       "    }\n",
       "</style>\n",
       "<table border=\"1\" class=\"dataframe\">\n",
       "  <thead>\n",
       "    <tr style=\"text-align: right;\">\n",
       "      <th></th>\n",
       "      <th>0</th>\n",
       "      <th>1</th>\n",
       "    </tr>\n",
       "  </thead>\n",
       "  <tbody>\n",
       "    <tr>\n",
       "      <th>0</th>\n",
       "      <td>ATCATTCCCGCTGTCCATAATGATATGTACCGCGATATAG</td>\n",
       "      <td>1</td>\n",
       "    </tr>\n",
       "    <tr>\n",
       "      <th>1</th>\n",
       "      <td>TGAAACAACGGCCGAGATATGTACCATTCAGTCCAACAGA</td>\n",
       "      <td>1</td>\n",
       "    </tr>\n",
       "    <tr>\n",
       "      <th>2</th>\n",
       "      <td>CCTCCCTGAGTAGGATTCCAGACGATATGTACCAATGACG</td>\n",
       "      <td>1</td>\n",
       "    </tr>\n",
       "    <tr>\n",
       "      <th>3</th>\n",
       "      <td>ATGATATGTACCGCACCTAGTCTATAACAGGCCGTTGGGT</td>\n",
       "      <td>1</td>\n",
       "    </tr>\n",
       "    <tr>\n",
       "      <th>4</th>\n",
       "      <td>TTCGGAAGGTGTGAGTTGGTCTGATATGTACCCTTACGTT</td>\n",
       "      <td>1</td>\n",
       "    </tr>\n",
       "  </tbody>\n",
       "</table>\n",
       "</div>"
      ],
      "text/plain": [
       "                                          0  1\n",
       "0  ATCATTCCCGCTGTCCATAATGATATGTACCGCGATATAG  1\n",
       "1  TGAAACAACGGCCGAGATATGTACCATTCAGTCCAACAGA  1\n",
       "2  CCTCCCTGAGTAGGATTCCAGACGATATGTACCAATGACG  1\n",
       "3  ATGATATGTACCGCACCTAGTCTATAACAGGCCGTTGGGT  1\n",
       "4  TTCGGAAGGTGTGAGTTGGTCTGATATGTACCCTTACGTT  1"
      ]
     },
     "execution_count": 3,
     "metadata": {},
     "output_type": "execute_result"
    }
   ],
   "source": [
    "df= pd.read_csv(\"/home/samridhi/boatgang/dataset/data.csv\", header=None, skiprows=1)\n",
    "df.head()"
   ]
  },
  {
   "cell_type": "code",
   "execution_count": 4,
   "metadata": {},
   "outputs": [
    {
     "data": {
      "text/plain": [
       "(60000, 2)"
      ]
     },
     "execution_count": 4,
     "metadata": {},
     "output_type": "execute_result"
    }
   ],
   "source": [
    "df.shape"
   ]
  },
  {
   "cell_type": "code",
   "execution_count": 5,
   "metadata": {},
   "outputs": [],
   "source": [
    "temp_sequences=df[0]\n",
    "temp_target=df[1]"
   ]
  },
  {
   "cell_type": "code",
   "execution_count": 6,
   "metadata": {},
   "outputs": [],
   "source": [
    "dict_i = {\"A\" : 0, \"C\": 1, \"G\": 2, \"T\" : 3}"
   ]
  },
  {
   "cell_type": "code",
   "execution_count": 7,
   "metadata": {},
   "outputs": [],
   "source": [
    "def one_hot_encode(s):\n",
    "    i=0\n",
    "    ohe = np.zeros((len(s), 4))\n",
    "    for k in s:\n",
    "        ohe[i,dict_i[k]] = 1\n",
    "        i+=1\n",
    "    return ohe"
   ]
  },
  {
   "cell_type": "code",
   "execution_count": 8,
   "metadata": {},
   "outputs": [
    {
     "name": "stdout",
     "output_type": "stream",
     "text": [
      "[[1. 0. 0. 0.]\n",
      " [0. 0. 0. 1.]\n",
      " [0. 1. 0. 0.]\n",
      " [1. 0. 0. 0.]\n",
      " [0. 0. 0. 1.]\n",
      " [0. 0. 0. 1.]\n",
      " [0. 1. 0. 0.]\n",
      " [0. 1. 0. 0.]\n",
      " [0. 1. 0. 0.]\n",
      " [0. 0. 1. 0.]\n",
      " [0. 1. 0. 0.]\n",
      " [0. 0. 0. 1.]\n",
      " [0. 0. 1. 0.]\n",
      " [0. 0. 0. 1.]\n",
      " [0. 1. 0. 0.]\n",
      " [0. 1. 0. 0.]\n",
      " [1. 0. 0. 0.]\n",
      " [0. 0. 0. 1.]\n",
      " [1. 0. 0. 0.]\n",
      " [1. 0. 0. 0.]\n",
      " [0. 0. 0. 1.]\n",
      " [0. 0. 1. 0.]\n",
      " [1. 0. 0. 0.]\n",
      " [0. 0. 0. 1.]\n",
      " [1. 0. 0. 0.]\n",
      " [0. 0. 0. 1.]\n",
      " [0. 0. 1. 0.]\n",
      " [0. 0. 0. 1.]\n",
      " [1. 0. 0. 0.]\n",
      " [0. 1. 0. 0.]\n",
      " [0. 1. 0. 0.]\n",
      " [0. 0. 1. 0.]\n",
      " [0. 1. 0. 0.]\n",
      " [0. 0. 1. 0.]\n",
      " [1. 0. 0. 0.]\n",
      " [0. 0. 0. 1.]\n",
      " [1. 0. 0. 0.]\n",
      " [0. 0. 0. 1.]\n",
      " [1. 0. 0. 0.]\n",
      " [0. 0. 1. 0.]]\n"
     ]
    }
   ],
   "source": [
    "ohe_sequences = np.array([one_hot_encode(s) for s in temp_sequences])"
   ]
  },
  {
   "cell_type": "code",
   "execution_count": 29,
   "metadata": {},
   "outputs": [],
   "source": [
    "from keras.models import model_from_json, load_model, model_from_config\n",
    "import json\n",
    "k = '{\"layers\": [{\"W_constraint\": null, \"b_constraint\": null, \"name\": \"Convolution1D\", \"custom_name\": \"convolution1d\", \"border_mode\": \"valid\", \"activation\": \"relu\", \"trainable\": true, \"input_shape\": [200, 4], \"W_learning_rate_multiplier\": null, \"filter_length\": 19, \"cache_enabled\": true, \"init\": \"uniform\", \"nb_filter\": 40, \"input_dim\": null, \"subsample_length\": 1, \"b_learning_rate_multiplier\": null, \"b_regularizer\": null, \"W_regularizer\": null, \"activity_regularizer\": null, \"input_length\": null}, {\"pool_length\": 10, \"name\": \"MaxPooling1D\", \"custom_name\": \"maxpooling1d\", \"stride\": 10, \"trainable\": true, \"cache_enabled\": true, \"border_mode\": \"valid\"}, {\"cache_enabled\": true, \"trainable\": true, \"name\": \"Flatten\", \"custom_name\": \"flatten\"}, {\"W_constraint\": null, \"b_constraint\": null, \"name\": \"Dense\", \"custom_name\": \"dense\", \"activity_regularizer\": null, \"trainable\": true, \"W_learning_rate_multiplier\": null, \"cache_enabled\": true, \"init\": \"glorot_uniform\", \"activation\": \"relu\", \"input_dim\": null, \"b_learning_rate_multiplier\": null, \"b_regularizer\": null, \"W_regularizer\": null, \"output_dim\": 250}, {\"cache_enabled\": true, \"trainable\": true, \"name\": \"Dropout\", \"custom_name\": \"dropout\", \"p\": 0.5}, {\"W_constraint\": null, \"b_constraint\": null, \"name\": \"Dense\", \"custom_name\": \"dense\", \"activity_regularizer\": null, \"trainable\": true, \"W_learning_rate_multiplier\": null, \"cache_enabled\": true, \"init\": \"glorot_uniform\", \"activation\": \"sigmoid\", \"input_dim\": null, \"b_learning_rate_multiplier\": null, \"b_regularizer\": null, \"W_regularizer\": null, \"output_dim\": 1}], \"optimizer\": {\"beta_1\": 0.8999999761581421, \"epsilon\": 1e-08, \"beta_2\": 0.9990000128746033, \"lr\": 0.0010000000474974513, \"name\": \"Adam\"}, \"class_mode\": \"binary\", \"name\": \"Sequential\", \"loss\": \"binary_crossentropy\"}'\n",
    "content = json.dumps(k)"
   ]
  },
  {
   "cell_type": "code",
   "execution_count": 30,
   "metadata": {},
   "outputs": [
    {
     "ename": "ValueError",
     "evalue": "Unknown layer:{\"layers\": [{\"W_constraint\": null, \"b_constraint\": null, \"name\": \"Convolution1D\", \"custom_name\": \"convolution1d\", \"border_mode\": \"valid\", \"activation\": \"relu\", \"trainable\": true, \"input_shape\": [200, 4], \"W_learning_rate_multiplier\": null, \"filter_length\": 19, \"cache_enabled\": true, \"init\": \"uniform\", \"nb_filter\": 40, \"input_dim\": null, \"subsample_length\": 1, \"b_learning_rate_multiplier\": null, \"b_regularizer\": null, \"W_regularizer\": null, \"activity_regularizer\": null, \"input_length\": null}, {\"pool_length\": 10, \"name\": \"MaxPooling1D\", \"custom_name\": \"maxpooling1d\", \"stride\": 10, \"trainable\": true, \"cache_enabled\": true, \"border_mode\": \"valid\"}, {\"cache_enabled\": true, \"trainable\": true, \"name\": \"Flatten\", \"custom_name\": \"flatten\"}, {\"W_constraint\": null, \"b_constraint\": null, \"name\": \"Dense\", \"custom_name\": \"dense\", \"activity_regularizer\": null, \"trainable\": true, \"W_learning_rate_multiplier\": null, \"cache_enabled\": true, \"init\": \"glorot_uniform\", \"activation\": \"relu\", \"input_dim\": null, \"b_learning_rate_multiplier\": null, \"b_regularizer\": null, \"W_regularizer\": null, \"output_dim\": 250}, {\"cache_enabled\": true, \"trainable\": true, \"name\": \"Dropout\", \"custom_name\": \"dropout\", \"p\": 0.5}, {\"W_constraint\": null, \"b_constraint\": null, \"name\": \"Dense\", \"custom_name\": \"dense\", \"activity_regularizer\": null, \"trainable\": true, \"W_learning_rate_multiplier\": null, \"cache_enabled\": true, \"init\": \"glorot_uniform\", \"activation\": \"sigmoid\", \"input_dim\": null, \"b_learning_rate_multiplier\": null, \"b_regularizer\": null, \"W_regularizer\": null, \"output_dim\": 1}], \"optimizer\": {\"beta_1\": 0.8999999761581421, \"epsilon\": 1e-08, \"beta_2\": 0.9990000128746033, \"lr\": 0.0010000000474974513, \"name\": \"Adam\"}, \"class_mode\": \"binary\", \"name\": \"Sequential\", \"loss\": \"binary_crossentropy\"}",
     "output_type": "error",
     "traceback": [
      "\u001b[0;31m---------------------------------------------------------------------------\u001b[0m",
      "\u001b[0;31mValueError\u001b[0m                                Traceback (most recent call last)",
      "\u001b[0;32m<ipython-input-30-31fde44c5b47>\u001b[0m in \u001b[0;36m<module>\u001b[0;34m()\u001b[0m\n\u001b[0;32m----> 1\u001b[0;31m \u001b[0mmodel\u001b[0m \u001b[0;34m=\u001b[0m \u001b[0mmodel_from_json\u001b[0m\u001b[0;34m(\u001b[0m\u001b[0mcontent\u001b[0m\u001b[0;34m)\u001b[0m\u001b[0;34m\u001b[0m\u001b[0m\n\u001b[0m",
      "\u001b[0;32m/home/samridhi/anaconda2/lib/python2.7/site-packages/keras/engine/saving.pyc\u001b[0m in \u001b[0;36mmodel_from_json\u001b[0;34m(json_string, custom_objects)\u001b[0m\n\u001b[1;32m    490\u001b[0m     \u001b[0mconfig\u001b[0m \u001b[0;34m=\u001b[0m \u001b[0mjson\u001b[0m\u001b[0;34m.\u001b[0m\u001b[0mloads\u001b[0m\u001b[0;34m(\u001b[0m\u001b[0mjson_string\u001b[0m\u001b[0;34m)\u001b[0m\u001b[0;34m\u001b[0m\u001b[0m\n\u001b[1;32m    491\u001b[0m     \u001b[0;32mfrom\u001b[0m \u001b[0;34m.\u001b[0m\u001b[0;34m.\u001b[0m\u001b[0mlayers\u001b[0m \u001b[0;32mimport\u001b[0m \u001b[0mdeserialize\u001b[0m\u001b[0;34m\u001b[0m\u001b[0m\n\u001b[0;32m--> 492\u001b[0;31m     \u001b[0;32mreturn\u001b[0m \u001b[0mdeserialize\u001b[0m\u001b[0;34m(\u001b[0m\u001b[0mconfig\u001b[0m\u001b[0;34m,\u001b[0m \u001b[0mcustom_objects\u001b[0m\u001b[0;34m=\u001b[0m\u001b[0mcustom_objects\u001b[0m\u001b[0;34m)\u001b[0m\u001b[0;34m\u001b[0m\u001b[0m\n\u001b[0m\u001b[1;32m    493\u001b[0m \u001b[0;34m\u001b[0m\u001b[0m\n\u001b[1;32m    494\u001b[0m \u001b[0;34m\u001b[0m\u001b[0m\n",
      "\u001b[0;32m/home/samridhi/anaconda2/lib/python2.7/site-packages/keras/layers/__init__.pyc\u001b[0m in \u001b[0;36mdeserialize\u001b[0;34m(config, custom_objects)\u001b[0m\n\u001b[1;32m     53\u001b[0m                                     \u001b[0mmodule_objects\u001b[0m\u001b[0;34m=\u001b[0m\u001b[0mglobs\u001b[0m\u001b[0;34m,\u001b[0m\u001b[0;34m\u001b[0m\u001b[0m\n\u001b[1;32m     54\u001b[0m                                     \u001b[0mcustom_objects\u001b[0m\u001b[0;34m=\u001b[0m\u001b[0mcustom_objects\u001b[0m\u001b[0;34m,\u001b[0m\u001b[0;34m\u001b[0m\u001b[0m\n\u001b[0;32m---> 55\u001b[0;31m                                     printable_module_name='layer')\n\u001b[0m",
      "\u001b[0;32m/home/samridhi/anaconda2/lib/python2.7/site-packages/keras/utils/generic_utils.pyc\u001b[0m in \u001b[0;36mdeserialize_keras_object\u001b[0;34m(identifier, module_objects, custom_objects, printable_module_name)\u001b[0m\n\u001b[1;32m    163\u001b[0m             \u001b[0;32mif\u001b[0m \u001b[0mfn\u001b[0m \u001b[0;32mis\u001b[0m \u001b[0mNone\u001b[0m\u001b[0;34m:\u001b[0m\u001b[0;34m\u001b[0m\u001b[0m\n\u001b[1;32m    164\u001b[0m                 raise ValueError('Unknown ' + printable_module_name +\n\u001b[0;32m--> 165\u001b[0;31m                                  ':' + function_name)\n\u001b[0m\u001b[1;32m    166\u001b[0m         \u001b[0;32mreturn\u001b[0m \u001b[0mfn\u001b[0m\u001b[0;34m\u001b[0m\u001b[0m\n\u001b[1;32m    167\u001b[0m     \u001b[0;32melse\u001b[0m\u001b[0;34m:\u001b[0m\u001b[0;34m\u001b[0m\u001b[0m\n",
      "\u001b[0;31mValueError\u001b[0m: Unknown layer:{\"layers\": [{\"W_constraint\": null, \"b_constraint\": null, \"name\": \"Convolution1D\", \"custom_name\": \"convolution1d\", \"border_mode\": \"valid\", \"activation\": \"relu\", \"trainable\": true, \"input_shape\": [200, 4], \"W_learning_rate_multiplier\": null, \"filter_length\": 19, \"cache_enabled\": true, \"init\": \"uniform\", \"nb_filter\": 40, \"input_dim\": null, \"subsample_length\": 1, \"b_learning_rate_multiplier\": null, \"b_regularizer\": null, \"W_regularizer\": null, \"activity_regularizer\": null, \"input_length\": null}, {\"pool_length\": 10, \"name\": \"MaxPooling1D\", \"custom_name\": \"maxpooling1d\", \"stride\": 10, \"trainable\": true, \"cache_enabled\": true, \"border_mode\": \"valid\"}, {\"cache_enabled\": true, \"trainable\": true, \"name\": \"Flatten\", \"custom_name\": \"flatten\"}, {\"W_constraint\": null, \"b_constraint\": null, \"name\": \"Dense\", \"custom_name\": \"dense\", \"activity_regularizer\": null, \"trainable\": true, \"W_learning_rate_multiplier\": null, \"cache_enabled\": true, \"init\": \"glorot_uniform\", \"activation\": \"relu\", \"input_dim\": null, \"b_learning_rate_multiplier\": null, \"b_regularizer\": null, \"W_regularizer\": null, \"output_dim\": 250}, {\"cache_enabled\": true, \"trainable\": true, \"name\": \"Dropout\", \"custom_name\": \"dropout\", \"p\": 0.5}, {\"W_constraint\": null, \"b_constraint\": null, \"name\": \"Dense\", \"custom_name\": \"dense\", \"activity_regularizer\": null, \"trainable\": true, \"W_learning_rate_multiplier\": null, \"cache_enabled\": true, \"init\": \"glorot_uniform\", \"activation\": \"sigmoid\", \"input_dim\": null, \"b_learning_rate_multiplier\": null, \"b_regularizer\": null, \"W_regularizer\": null, \"output_dim\": 1}], \"optimizer\": {\"beta_1\": 0.8999999761581421, \"epsilon\": 1e-08, \"beta_2\": 0.9990000128746033, \"lr\": 0.0010000000474974513, \"name\": \"Adam\"}, \"class_mode\": \"binary\", \"name\": \"Sequential\", \"loss\": \"binary_crossentropy\"}"
     ]
    }
   ],
   "source": [
    "model = model_from_json(content)"
   ]
  },
  {
   "cell_type": "code",
   "execution_count": null,
   "metadata": {},
   "outputs": [],
   "source": []
  },
  {
   "cell_type": "code",
   "execution_count": null,
   "metadata": {},
   "outputs": [],
   "source": []
  },
  {
   "cell_type": "code",
   "execution_count": null,
   "metadata": {},
   "outputs": [],
   "source": []
  },
  {
   "cell_type": "code",
   "execution_count": null,
   "metadata": {},
   "outputs": [],
   "source": []
  },
  {
   "cell_type": "code",
   "execution_count": null,
   "metadata": {},
   "outputs": [],
   "source": []
  },
  {
   "cell_type": "code",
   "execution_count": null,
   "metadata": {},
   "outputs": [],
   "source": []
  },
  {
   "cell_type": "code",
   "execution_count": null,
   "metadata": {},
   "outputs": [],
   "source": []
  },
  {
   "cell_type": "code",
   "execution_count": null,
   "metadata": {},
   "outputs": [],
   "source": []
  },
  {
   "cell_type": "code",
   "execution_count": null,
   "metadata": {},
   "outputs": [],
   "source": []
  },
  {
   "cell_type": "code",
   "execution_count": null,
   "metadata": {},
   "outputs": [],
   "source": []
  },
  {
   "cell_type": "code",
   "execution_count": null,
   "metadata": {},
   "outputs": [],
   "source": []
  },
  {
   "cell_type": "code",
   "execution_count": null,
   "metadata": {},
   "outputs": [],
   "source": []
  },
  {
   "cell_type": "code",
   "execution_count": null,
   "metadata": {},
   "outputs": [],
   "source": []
  },
  {
   "cell_type": "code",
   "execution_count": null,
   "metadata": {},
   "outputs": [],
   "source": []
  },
  {
   "cell_type": "code",
   "execution_count": null,
   "metadata": {},
   "outputs": [],
   "source": []
  },
  {
   "cell_type": "code",
   "execution_count": null,
   "metadata": {},
   "outputs": [],
   "source": []
  },
  {
   "cell_type": "code",
   "execution_count": null,
   "metadata": {},
   "outputs": [],
   "source": []
  },
  {
   "cell_type": "code",
   "execution_count": null,
   "metadata": {},
   "outputs": [],
   "source": []
  },
  {
   "cell_type": "code",
   "execution_count": null,
   "metadata": {},
   "outputs": [],
   "source": []
  },
  {
   "cell_type": "code",
   "execution_count": null,
   "metadata": {},
   "outputs": [],
   "source": []
  },
  {
   "cell_type": "code",
   "execution_count": null,
   "metadata": {},
   "outputs": [],
   "source": []
  }
 ],
 "metadata": {
  "kernelspec": {
   "display_name": "Python 2",
   "language": "python",
   "name": "python2"
  },
  "language_info": {
   "codemirror_mode": {
    "name": "ipython",
    "version": 2
   },
   "file_extension": ".py",
   "mimetype": "text/x-python",
   "name": "python",
   "nbconvert_exporter": "python",
   "pygments_lexer": "ipython2",
   "version": "2.7.15"
  }
 },
 "nbformat": 4,
 "nbformat_minor": 2
}
