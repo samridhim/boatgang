{
 "cells": [
  {
   "cell_type": "code",
   "execution_count": 1,
   "metadata": {
    "scrolled": true
   },
   "outputs": [
    {
     "name": "stderr",
     "output_type": "stream",
     "text": [
      "/home/abhinav/anaconda2/lib/python2.7/site-packages/h5py/__init__.py:36: FutureWarning: Conversion of the second argument of issubdtype from `float` to `np.floating` is deprecated. In future, it will be treated as `np.float64 == np.dtype(float).type`.\n",
      "  from ._conv import register_converters as _register_converters\n",
      "Using TensorFlow backend.\n"
     ]
    }
   ],
   "source": [
    "import numpy as np\n",
    "import pandas as pd\n",
    "import keras\n",
    "import warnings\n",
    "warnings.filterwarnings(\"ignore\")"
   ]
  },
  {
   "cell_type": "code",
   "execution_count": 2,
   "metadata": {},
   "outputs": [
    {
     "data": {
      "text/html": [
       "<div>\n",
       "<style scoped>\n",
       "    .dataframe tbody tr th:only-of-type {\n",
       "        vertical-align: middle;\n",
       "    }\n",
       "\n",
       "    .dataframe tbody tr th {\n",
       "        vertical-align: top;\n",
       "    }\n",
       "\n",
       "    .dataframe thead th {\n",
       "        text-align: right;\n",
       "    }\n",
       "</style>\n",
       "<table border=\"1\" class=\"dataframe\">\n",
       "  <thead>\n",
       "    <tr style=\"text-align: right;\">\n",
       "      <th></th>\n",
       "      <th>0</th>\n",
       "      <th>1</th>\n",
       "    </tr>\n",
       "  </thead>\n",
       "  <tbody>\n",
       "    <tr>\n",
       "      <th>0</th>\n",
       "      <td>TCCGATATGTACCCGGACGTAATCCGCAGAATAAAGTATCTAAAAG...</td>\n",
       "      <td>1</td>\n",
       "    </tr>\n",
       "    <tr>\n",
       "      <th>1</th>\n",
       "      <td>GGTAACGAAGTGGTTACATTATGCTCTTCCGTTTCGGATTGTGAAC...</td>\n",
       "      <td>1</td>\n",
       "    </tr>\n",
       "    <tr>\n",
       "      <th>2</th>\n",
       "      <td>GCTTCGTCACGGACGTCCCTCGATTAGACTCGATATGTACCTAACG...</td>\n",
       "      <td>1</td>\n",
       "    </tr>\n",
       "    <tr>\n",
       "      <th>3</th>\n",
       "      <td>ATGCTTCTACACGCATTATACAGCCCCGCGTTTTAGTCCTTTTCAG...</td>\n",
       "      <td>1</td>\n",
       "    </tr>\n",
       "    <tr>\n",
       "      <th>4</th>\n",
       "      <td>GGACTAGTTGAGGAACAATGAACTCTTTTCAATTGAAACCGAGTTA...</td>\n",
       "      <td>1</td>\n",
       "    </tr>\n",
       "  </tbody>\n",
       "</table>\n",
       "</div>"
      ],
      "text/plain": [
       "                                                   0  1\n",
       "0  TCCGATATGTACCCGGACGTAATCCGCAGAATAAAGTATCTAAAAG...  1\n",
       "1  GGTAACGAAGTGGTTACATTATGCTCTTCCGTTTCGGATTGTGAAC...  1\n",
       "2  GCTTCGTCACGGACGTCCCTCGATTAGACTCGATATGTACCTAACG...  1\n",
       "3  ATGCTTCTACACGCATTATACAGCCCCGCGTTTTAGTCCTTTTCAG...  1\n",
       "4  GGACTAGTTGAGGAACAATGAACTCTTTTCAATTGAAACCGAGTTA...  1"
      ]
     },
     "execution_count": 2,
     "metadata": {},
     "output_type": "execute_result"
    }
   ],
   "source": [
    "df= pd.read_csv(\"/home/abhinav/Documents/dataset/data.csv\", header=None, skiprows=1)\n",
    "df.head()"
   ]
  },
  {
   "cell_type": "code",
   "execution_count": 3,
   "metadata": {},
   "outputs": [
    {
     "data": {
      "text/plain": [
       "(60000, 2)"
      ]
     },
     "execution_count": 3,
     "metadata": {},
     "output_type": "execute_result"
    }
   ],
   "source": [
    "df.shape"
   ]
  },
  {
   "cell_type": "code",
   "execution_count": 4,
   "metadata": {},
   "outputs": [],
   "source": [
    "temp_sequences=df[0]\n",
    "temp_target=df[1]"
   ]
  },
  {
   "cell_type": "code",
   "execution_count": 5,
   "metadata": {},
   "outputs": [],
   "source": [
    "dict_i = {\"A\" : 0, \"C\": 1, \"G\": 2, \"T\" : 3}"
   ]
  },
  {
   "cell_type": "code",
   "execution_count": 6,
   "metadata": {},
   "outputs": [],
   "source": [
    "def one_hot_encode(s):\n",
    "    i=0\n",
    "    ohe = np.zeros((len(s), 4))\n",
    "    for k in s:\n",
    "        ohe[i,dict_i[k]] = 1\n",
    "        i+=1\n",
    "    return ohe"
   ]
  },
  {
   "cell_type": "code",
   "execution_count": 7,
   "metadata": {},
   "outputs": [
    {
     "name": "stdout",
     "output_type": "stream",
     "text": [
      "[[[0. 0. 0. 1.]\n",
      "  [0. 1. 0. 0.]\n",
      "  [0. 1. 0. 0.]\n",
      "  ...\n",
      "  [1. 0. 0. 0.]\n",
      "  [0. 0. 0. 1.]\n",
      "  [0. 0. 1. 0.]]\n",
      "\n",
      " [[0. 0. 1. 0.]\n",
      "  [0. 0. 1. 0.]\n",
      "  [0. 0. 0. 1.]\n",
      "  ...\n",
      "  [0. 1. 0. 0.]\n",
      "  [1. 0. 0. 0.]\n",
      "  [0. 1. 0. 0.]]\n",
      "\n",
      " [[0. 0. 1. 0.]\n",
      "  [0. 1. 0. 0.]\n",
      "  [0. 0. 0. 1.]\n",
      "  ...\n",
      "  [1. 0. 0. 0.]\n",
      "  [0. 0. 1. 0.]\n",
      "  [0. 0. 1. 0.]]\n",
      "\n",
      " ...\n",
      "\n",
      " [[0. 0. 0. 1.]\n",
      "  [0. 0. 1. 0.]\n",
      "  [0. 1. 0. 0.]\n",
      "  ...\n",
      "  [1. 0. 0. 0.]\n",
      "  [1. 0. 0. 0.]\n",
      "  [0. 0. 0. 1.]]\n",
      "\n",
      " [[1. 0. 0. 0.]\n",
      "  [0. 1. 0. 0.]\n",
      "  [0. 1. 0. 0.]\n",
      "  ...\n",
      "  [1. 0. 0. 0.]\n",
      "  [0. 0. 1. 0.]\n",
      "  [0. 0. 1. 0.]]\n",
      "\n",
      " [[0. 1. 0. 0.]\n",
      "  [0. 1. 0. 0.]\n",
      "  [0. 0. 1. 0.]\n",
      "  ...\n",
      "  [0. 0. 0. 1.]\n",
      "  [0. 0. 0. 1.]\n",
      "  [0. 0. 0. 1.]]]\n"
     ]
    },
    {
     "data": {
      "text/plain": [
       "(60000, 200, 4)"
      ]
     },
     "execution_count": 7,
     "metadata": {},
     "output_type": "execute_result"
    }
   ],
   "source": [
    "ohe_sequences = np.array([one_hot_encode(s) for s in temp_sequences])\n",
    "print ohe_sequences\n",
    "ohe_sequences.shape"
   ]
  },
  {
   "cell_type": "code",
   "execution_count": 8,
   "metadata": {},
   "outputs": [],
   "source": [
    "from keras.models import Sequential\n",
    "from keras.layers import Dense\n",
    "from keras.layers import Conv1D\n",
    "from keras.layers import MaxPooling1D\n",
    "from keras.layers import Dropout,Flatten\n",
    "from sklearn.utils import shuffle\n",
    "from sklearn.model_selection import train_test_split"
   ]
  },
  {
   "cell_type": "markdown",
   "metadata": {},
   "source": [
    "We used the Keras deep learning framework (https://github.com/keras-team/keras) to train a CNN to classify\n",
    "the sequences. The sequences were represented using a one-hot encoding with 4 channels (A, C, G and T). The\n",
    "CNN architecture is as follows: Layer 1 is a convolutional layer with 40 filters of size 19 and ReLU activation\n",
    "operating on one-hot encoded input sequences. Layer 2 is a max pooling layer of pool length 10. Layer 3 is a\n",
    "fully connected layer of size 200 with dropout (p=0.5) and ReLU activation. Layer 4 is a fully connected layer\n",
    "with a sigmoid activation. The model was trained with the Adam optimizer and binary cross-entropy loss until\n",
    "no improvement was seen for 3 epochs on the validation set. The datasets, code and model are available at"
   ]
  },
  {
   "cell_type": "code",
   "execution_count": 9,
   "metadata": {},
   "outputs": [],
   "source": [
    "model = Sequential()\n",
    "model.add(Conv1D(filters=30, kernel_size=15, strides=1, activation='relu', input_shape=(200,4)))"
   ]
  },
  {
   "cell_type": "code",
   "execution_count": 10,
   "metadata": {},
   "outputs": [],
   "source": [
    "model.add(MaxPooling1D(pool_size=10, strides=10))"
   ]
  },
  {
   "cell_type": "code",
   "execution_count": 11,
   "metadata": {},
   "outputs": [],
   "source": [
    "model.add(Flatten())\n",
    "model.add(Dense(200, activation='relu'))"
   ]
  },
  {
   "cell_type": "code",
   "execution_count": 12,
   "metadata": {},
   "outputs": [],
   "source": [
    "model.add(Dense(1, activation='sigmoid'))"
   ]
  },
  {
   "cell_type": "code",
   "execution_count": 13,
   "metadata": {},
   "outputs": [
    {
     "name": "stdout",
     "output_type": "stream",
     "text": [
      "_________________________________________________________________\n",
      "Layer (type)                 Output Shape              Param #   \n",
      "=================================================================\n",
      "conv1d_1 (Conv1D)            (None, 186, 30)           1830      \n",
      "_________________________________________________________________\n",
      "max_pooling1d_1 (MaxPooling1 (None, 18, 30)            0         \n",
      "_________________________________________________________________\n",
      "flatten_1 (Flatten)          (None, 540)               0         \n",
      "_________________________________________________________________\n",
      "dense_1 (Dense)              (None, 200)               108200    \n",
      "_________________________________________________________________\n",
      "dense_2 (Dense)              (None, 1)                 201       \n",
      "=================================================================\n",
      "Total params: 110,231\n",
      "Trainable params: 110,231\n",
      "Non-trainable params: 0\n",
      "_________________________________________________________________\n"
     ]
    }
   ],
   "source": [
    "model.summary()"
   ]
  },
  {
   "cell_type": "code",
   "execution_count": 14,
   "metadata": {},
   "outputs": [],
   "source": [
    "model.compile(loss='binary_crossentropy', optimizer='Adam', metrics=['accuracy'])"
   ]
  },
  {
   "cell_type": "code",
   "execution_count": 15,
   "metadata": {},
   "outputs": [],
   "source": [
    "ohe_sequences=shuffle(ohe_sequences)"
   ]
  },
  {
   "cell_type": "code",
   "execution_count": 16,
   "metadata": {},
   "outputs": [],
   "source": [
    "data_train, data_test, labels_train, labels_test = train_test_split(ohe_sequences, temp_target, test_size=0.30, random_state=42)"
   ]
  },
  {
   "cell_type": "code",
   "execution_count": 17,
   "metadata": {},
   "outputs": [
    {
     "name": "stdout",
     "output_type": "stream",
     "text": [
      "Epoch 1/50\n",
      "42000/42000 [==============================] - 8s 198us/step - loss: 0.6953 - acc: 0.4975\n",
      "Epoch 2/50\n",
      "42000/42000 [==============================] - 7s 158us/step - loss: 0.6927 - acc: 0.5130\n",
      "Epoch 3/50\n",
      "42000/42000 [==============================] - 7s 162us/step - loss: 0.6905 - acc: 0.5308\n",
      "Epoch 4/50\n",
      "42000/42000 [==============================] - 7s 163us/step - loss: 0.6837 - acc: 0.5551\n",
      "Epoch 5/50\n",
      "42000/42000 [==============================] - 7s 163us/step - loss: 0.6697 - acc: 0.5896\n",
      "Epoch 6/50\n",
      "42000/42000 [==============================] - 7s 165us/step - loss: 0.6379 - acc: 0.6350\n",
      "Epoch 7/50\n",
      "42000/42000 [==============================] - 7s 163us/step - loss: 0.5700 - acc: 0.7072\n",
      "Epoch 8/50\n",
      "42000/42000 [==============================] - 7s 163us/step - loss: 0.4605 - acc: 0.7937\n",
      "Epoch 9/50\n",
      "42000/42000 [==============================] - 7s 161us/step - loss: 0.3454 - acc: 0.8628\n",
      "Epoch 10/50\n",
      "42000/42000 [==============================] - 7s 163us/step - loss: 0.2393 - acc: 0.9161\n",
      "Epoch 11/50\n",
      "42000/42000 [==============================] - 7s 161us/step - loss: 0.1574 - acc: 0.9525\n",
      "Epoch 12/50\n",
      "42000/42000 [==============================] - 7s 157us/step - loss: 0.0998 - acc: 0.9743\n",
      "Epoch 13/50\n",
      "42000/42000 [==============================] - 7s 157us/step - loss: 0.0672 - acc: 0.9854\n",
      "Epoch 14/50\n",
      "42000/42000 [==============================] - 7s 159us/step - loss: 0.0507 - acc: 0.9890\n",
      "Epoch 15/50\n",
      "42000/42000 [==============================] - 7s 160us/step - loss: 0.0475 - acc: 0.9874\n",
      "Epoch 16/50\n",
      "42000/42000 [==============================] - 7s 156us/step - loss: 0.0398 - acc: 0.9893\n",
      "Epoch 17/50\n",
      "42000/42000 [==============================] - 7s 160us/step - loss: 0.0341 - acc: 0.9912\n",
      "Epoch 18/50\n",
      "42000/42000 [==============================] - 7s 161us/step - loss: 0.0347 - acc: 0.9893\n",
      "Epoch 19/50\n",
      "42000/42000 [==============================] - 7s 156us/step - loss: 0.0318 - acc: 0.9903\n",
      "Epoch 20/50\n",
      "42000/42000 [==============================] - 7s 161us/step - loss: 0.0309 - acc: 0.9907\n",
      "Epoch 21/50\n",
      "42000/42000 [==============================] - 7s 159us/step - loss: 0.0313 - acc: 0.9896\n",
      "Epoch 22/50\n",
      "42000/42000 [==============================] - 7s 158us/step - loss: 0.0273 - acc: 0.9909\n",
      "Epoch 23/50\n",
      "42000/42000 [==============================] - 7s 157us/step - loss: 0.0294 - acc: 0.9897\n",
      "Epoch 24/50\n",
      "42000/42000 [==============================] - 7s 158us/step - loss: 0.0261 - acc: 0.9913\n",
      "Epoch 25/50\n",
      "42000/42000 [==============================] - 7s 160us/step - loss: 0.0301 - acc: 0.9897\n",
      "Epoch 26/50\n",
      "42000/42000 [==============================] - 7s 158us/step - loss: 0.0286 - acc: 0.9899\n",
      "Epoch 27/50\n",
      "42000/42000 [==============================] - 7s 159us/step - loss: 0.0245 - acc: 0.9912\n",
      "Epoch 28/50\n",
      "42000/42000 [==============================] - 7s 158us/step - loss: 0.0266 - acc: 0.9911\n",
      "Epoch 29/50\n",
      "42000/42000 [==============================] - 7s 158us/step - loss: 0.0251 - acc: 0.9916\n",
      "Epoch 30/50\n",
      "42000/42000 [==============================] - 7s 160us/step - loss: 0.0253 - acc: 0.9912\n",
      "Epoch 31/50\n",
      "42000/42000 [==============================] - 7s 157us/step - loss: 0.0257 - acc: 0.9907\n",
      "Epoch 32/50\n",
      "42000/42000 [==============================] - 7s 159us/step - loss: 0.0250 - acc: 0.9913\n",
      "Epoch 33/50\n",
      "42000/42000 [==============================] - 7s 162us/step - loss: 0.0222 - acc: 0.9920\n",
      "Epoch 34/50\n",
      "42000/42000 [==============================] - 7s 161us/step - loss: 0.0181 - acc: 0.9938\n",
      "Epoch 35/50\n",
      "42000/42000 [==============================] - 7s 159us/step - loss: 0.0287 - acc: 0.9894\n",
      "Epoch 36/50\n",
      "42000/42000 [==============================] - 7s 160us/step - loss: 0.0215 - acc: 0.9922\n",
      "Epoch 37/50\n",
      "42000/42000 [==============================] - 7s 157us/step - loss: 0.0213 - acc: 0.9921\n",
      "Epoch 38/50\n",
      "42000/42000 [==============================] - 7s 161us/step - loss: 0.0243 - acc: 0.9912\n",
      "Epoch 39/50\n",
      "42000/42000 [==============================] - 7s 156us/step - loss: 0.0202 - acc: 0.9925\n",
      "Epoch 40/50\n",
      "42000/42000 [==============================] - 7s 157us/step - loss: 0.0205 - acc: 0.9928\n",
      "Epoch 41/50\n",
      "42000/42000 [==============================] - 7s 156us/step - loss: 0.0217 - acc: 0.9920\n",
      "Epoch 42/50\n",
      "42000/42000 [==============================] - 6s 154us/step - loss: 0.0222 - acc: 0.9916\n",
      "Epoch 43/50\n",
      "42000/42000 [==============================] - 7s 156us/step - loss: 0.0161 - acc: 0.9945\n",
      "Epoch 44/50\n",
      "42000/42000 [==============================] - 6s 155us/step - loss: 0.0200 - acc: 0.9928\n",
      "Epoch 45/50\n",
      "42000/42000 [==============================] - 6s 153us/step - loss: 0.0217 - acc: 0.9923\n",
      "Epoch 46/50\n",
      "42000/42000 [==============================] - 7s 157us/step - loss: 0.0182 - acc: 0.9936\n",
      "Epoch 47/50\n",
      "42000/42000 [==============================] - 7s 156us/step - loss: 0.0241 - acc: 0.9912\n",
      "Epoch 48/50\n",
      "42000/42000 [==============================] - 7s 155us/step - loss: 0.0170 - acc: 0.9944\n",
      "Epoch 49/50\n",
      "42000/42000 [==============================] - 6s 154us/step - loss: 0.0184 - acc: 0.9936\n",
      "Epoch 50/50\n",
      "42000/42000 [==============================] - 6s 154us/step - loss: 0.0185 - acc: 0.9929\n"
     ]
    },
    {
     "data": {
      "text/plain": [
       "<keras.callbacks.History at 0x7ff6022f2ed0>"
      ]
     },
     "execution_count": 17,
     "metadata": {},
     "output_type": "execute_result"
    }
   ],
   "source": [
    "model.fit(data_train, labels_train, epochs=50, verbose=1)"
   ]
  },
  {
   "cell_type": "code",
   "execution_count": 18,
   "metadata": {},
   "outputs": [
    {
     "name": "stdout",
     "output_type": "stream",
     "text": [
      "18000/18000 [==============================] - 1s 65us/step\n",
      "('Test loss ', 4.100209796057807)\n",
      "('Test acc ', 0.5005)\n"
     ]
    }
   ],
   "source": [
    "scores = model.evaluate(data_test, labels_test)\n",
    "print (\"Test loss \", scores[0])\n",
    "print (\"Test acc \", scores[1])"
   ]
  },
  {
   "cell_type": "code",
   "execution_count": 19,
   "metadata": {},
   "outputs": [
    {
     "data": {
      "text/plain": [
       "[{'class_name': 'Conv1D',\n",
       "  'config': {'activation': 'relu',\n",
       "   'activity_regularizer': None,\n",
       "   'batch_input_shape': (None, 200, 4),\n",
       "   'bias_constraint': None,\n",
       "   'bias_initializer': {'class_name': 'Zeros', 'config': {}},\n",
       "   'bias_regularizer': None,\n",
       "   'data_format': 'channels_last',\n",
       "   'dilation_rate': (1,),\n",
       "   'dtype': 'float32',\n",
       "   'filters': 30,\n",
       "   'kernel_constraint': None,\n",
       "   'kernel_initializer': {'class_name': 'VarianceScaling',\n",
       "    'config': {'distribution': 'uniform',\n",
       "     'mode': 'fan_avg',\n",
       "     'scale': 1.0,\n",
       "     'seed': None}},\n",
       "   'kernel_regularizer': None,\n",
       "   'kernel_size': (15,),\n",
       "   'name': 'conv1d_1',\n",
       "   'padding': 'valid',\n",
       "   'strides': (1,),\n",
       "   'trainable': True,\n",
       "   'use_bias': True}},\n",
       " {'class_name': 'MaxPooling1D',\n",
       "  'config': {'name': 'max_pooling1d_1',\n",
       "   'padding': 'valid',\n",
       "   'pool_size': (10,),\n",
       "   'strides': (10,),\n",
       "   'trainable': True}},\n",
       " {'class_name': 'Flatten',\n",
       "  'config': {'data_format': 'channels_last',\n",
       "   'name': 'flatten_1',\n",
       "   'trainable': True}},\n",
       " {'class_name': 'Dense',\n",
       "  'config': {'activation': 'relu',\n",
       "   'activity_regularizer': None,\n",
       "   'bias_constraint': None,\n",
       "   'bias_initializer': {'class_name': 'Zeros', 'config': {}},\n",
       "   'bias_regularizer': None,\n",
       "   'kernel_constraint': None,\n",
       "   'kernel_initializer': {'class_name': 'VarianceScaling',\n",
       "    'config': {'distribution': 'uniform',\n",
       "     'mode': 'fan_avg',\n",
       "     'scale': 1.0,\n",
       "     'seed': None}},\n",
       "   'kernel_regularizer': None,\n",
       "   'name': 'dense_1',\n",
       "   'trainable': True,\n",
       "   'units': 200,\n",
       "   'use_bias': True}},\n",
       " {'class_name': 'Dense',\n",
       "  'config': {'activation': 'sigmoid',\n",
       "   'activity_regularizer': None,\n",
       "   'bias_constraint': None,\n",
       "   'bias_initializer': {'class_name': 'Zeros', 'config': {}},\n",
       "   'bias_regularizer': None,\n",
       "   'kernel_constraint': None,\n",
       "   'kernel_initializer': {'class_name': 'VarianceScaling',\n",
       "    'config': {'distribution': 'uniform',\n",
       "     'mode': 'fan_avg',\n",
       "     'scale': 1.0,\n",
       "     'seed': None}},\n",
       "   'kernel_regularizer': None,\n",
       "   'name': 'dense_2',\n",
       "   'trainable': True,\n",
       "   'units': 1,\n",
       "   'use_bias': True}}]"
      ]
     },
     "execution_count": 19,
     "metadata": {},
     "output_type": "execute_result"
    }
   ],
   "source": [
    "model.get_config()"
   ]
  },
  {
   "cell_type": "code",
   "execution_count": null,
   "metadata": {},
   "outputs": [],
   "source": [
    "model.ti"
   ]
  },
  {
   "cell_type": "code",
   "execution_count": null,
   "metadata": {},
   "outputs": [],
   "source": []
  }
 ],
 "metadata": {
  "kernelspec": {
   "display_name": "Python 2",
   "language": "python",
   "name": "python2"
  },
  "language_info": {
   "codemirror_mode": {
    "name": "ipython",
    "version": 2
   },
   "file_extension": ".py",
   "mimetype": "text/x-python",
   "name": "python",
   "nbconvert_exporter": "python",
   "pygments_lexer": "ipython2",
   "version": "2.7.15"
  }
 },
 "nbformat": 4,
 "nbformat_minor": 2
}
