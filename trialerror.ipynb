{
 "cells": [
  {
   "cell_type": "code",
   "execution_count": 23,
   "metadata": {},
   "outputs": [],
   "source": [
    "from Bio import SeqIO\n",
    "import numpy as np\n",
    "temp_sequences = []\n",
    "for record in SeqIO.parse(\"/home/samridhi/boatgang/sequences.fa\", \"fasta\"):\n",
    "    temp_sequences.append(str(record.seq))"
   ]
  },
  {
   "cell_type": "code",
   "execution_count": 24,
   "metadata": {},
   "outputs": [],
   "source": [
    "import pandas as pd"
   ]
  },
  {
   "cell_type": "code",
   "execution_count": 25,
   "metadata": {},
   "outputs": [],
   "source": [
    "df = pd.read_csv(\"/home/samridhi/boatgang/labels.txt\", sep=\"\\t\")"
   ]
  },
  {
   "cell_type": "code",
   "execution_count": 26,
   "metadata": {},
   "outputs": [
    {
     "name": "stdout",
     "output_type": "stream",
     "text": [
      "GGGCGATATTCACTGCTGGGACACATACTTGAAGTCAATCTCTGACTGAACAGATGGTCGGGAACTCCTTCACTCATACGATTTTAAAATCTAAGCAATCCTGTAGTTTGCGTACCTTCTCAAACCCGGAAGTGTTGACCGGTTCGTTGACGATAGAAATAAAAGCCTTGAATCTTTTTTTACATTAATTCAACCTAGTC\n",
      "<type 'str'>\n"
     ]
    }
   ],
   "source": [
    "print temp_sequences[0]\n",
    "print type(temp_sequences[0])"
   ]
  },
  {
   "cell_type": "code",
   "execution_count": 27,
   "metadata": {},
   "outputs": [
    {
     "data": {
      "text/html": [
       "<div>\n",
       "<style scoped>\n",
       "    .dataframe tbody tr th:only-of-type {\n",
       "        vertical-align: middle;\n",
       "    }\n",
       "\n",
       "    .dataframe tbody tr th {\n",
       "        vertical-align: top;\n",
       "    }\n",
       "\n",
       "    .dataframe thead th {\n",
       "        text-align: right;\n",
       "    }\n",
       "</style>\n",
       "<table border=\"1\" class=\"dataframe\">\n",
       "  <thead>\n",
       "    <tr style=\"text-align: right;\">\n",
       "      <th></th>\n",
       "      <th>0</th>\n",
       "      <th>task1</th>\n",
       "    </tr>\n",
       "  </thead>\n",
       "  <tbody>\n",
       "    <tr>\n",
       "      <th>0</th>\n",
       "      <td>GGGCGATATTCACTGCTGGGACACATACTTGAAGTCAATCTCTGAC...</td>\n",
       "      <td>1</td>\n",
       "    </tr>\n",
       "    <tr>\n",
       "      <th>1</th>\n",
       "      <td>CCTAGGTTATATGATGAGTCACCTCATTTACTTAAACCCGGAAGTG...</td>\n",
       "      <td>1</td>\n",
       "    </tr>\n",
       "    <tr>\n",
       "      <th>2</th>\n",
       "      <td>CGGAGTGCGTTCTGAACAGATGGTCGGTTGCAGGTAACATAACCAC...</td>\n",
       "      <td>1</td>\n",
       "    </tr>\n",
       "    <tr>\n",
       "      <th>3</th>\n",
       "      <td>ATAGCCCTCGATGCTCTAGCATTAACCCGGAAGTGATACCCAACGC...</td>\n",
       "      <td>1</td>\n",
       "    </tr>\n",
       "    <tr>\n",
       "      <th>4</th>\n",
       "      <td>TTCCGCCAGAGATGTCCTAATTTCGTGAGAGCTCATTAACCCGGAA...</td>\n",
       "      <td>1</td>\n",
       "    </tr>\n",
       "  </tbody>\n",
       "</table>\n",
       "</div>"
      ],
      "text/plain": [
       "                                                   0  task1\n",
       "0  GGGCGATATTCACTGCTGGGACACATACTTGAAGTCAATCTCTGAC...      1\n",
       "1  CCTAGGTTATATGATGAGTCACCTCATTTACTTAAACCCGGAAGTG...      1\n",
       "2  CGGAGTGCGTTCTGAACAGATGGTCGGTTGCAGGTAACATAACCAC...      1\n",
       "3  ATAGCCCTCGATGCTCTAGCATTAACCCGGAAGTGATACCCAACGC...      1\n",
       "4  TTCCGCCAGAGATGTCCTAATTTCGTGAGAGCTCATTAACCCGGAA...      1"
      ]
     },
     "execution_count": 27,
     "metadata": {},
     "output_type": "execute_result"
    }
   ],
   "source": [
    "temp_target = df['task1']\n",
    "temp_sequences = pd.DataFrame(temp_sequences)\n",
    "temp_sequences = temp_sequences.join(temp_target)\n",
    "temp_sequences.to_csv(\"/home/samridhi/mycsv.csv\")\n",
    "temp_sequences.head()"
   ]
  },
  {
   "cell_type": "code",
   "execution_count": 21,
   "metadata": {},
   "outputs": [
    {
     "name": "stdout",
     "output_type": "stream",
     "text": [
      "0        GGGCGATATTCACTGCTGGGACACATACTTGAAGTCAATCTCTGAC...\n",
      "1        CCTAGGTTATATGATGAGTCACCTCATTTACTTAAACCCGGAAGTG...\n",
      "2        CGGAGTGCGTTCTGAACAGATGGTCGGTTGCAGGTAACATAACCAC...\n",
      "3        ATAGCCCTCGATGCTCTAGCATTAACCCGGAAGTGATACCCAACGC...\n",
      "4        TTCCGCCAGAGATGTCCTAATTTCGTGAGAGCTCATTAACCCGGAA...\n",
      "5        TTTTTGATGAGTCACCGATGACCGCGACAGTTAGTTCACCTGCAAA...\n",
      "6        TACTGTCAGTTATTGACGTCCATTTCATATTCTACAAGCTGAACAG...\n",
      "7        TTAACCACTTTGATCCGTTTATACGGAGGCTGAAGGACATCTGAAC...\n",
      "8        TCCCCGCATGATTTATGATGTCATGAGTCACCTGGTTTTCACTGCA...\n",
      "9        ATAGGAAAGGTACACACCTCGAAAACAAACCCGGAAGTGGCCCAAC...\n",
      "10       AGGTGCCAGGAATGTCTCAACCCGGAAGTGCATGGCTCTTTGCGTG...\n",
      "11       GACATCACTATAACGTACATAGCCTGTTTCACTGAACAGATGGTCG...\n",
      "12       GGACAATGGATCGGGTCGCAACCCGGAAGTGCATCCATGGGATTTC...\n",
      "13       GCGTAAATATGAGTCACCGAACCCGATGTGTAACACTGATATAGAA...\n",
      "14       GCTCCAACTCCCTCCCGGCAAGGTGGATGGGTCCTAATTCACCCGC...\n",
      "15       AATTTGAAGCACTTACAACGCAGAGTCCAAGCGTCAGCAACTTCCG...\n",
      "16       ACAGCCGAGCACATTCTTTTCATGAGATCACCGTACCTAACCTCCA...\n",
      "17       TAGTCTGTCGGGACTTATTGCACATAGAAAACCCGGAAGTGACAAT...\n",
      "18       GTGGGTAACCCGGAAGTGTGTATTGAGGGAAGTTAATGTGGTTTTA...\n",
      "19       TAGCCGCGCTGCGTCAGCCTTGCCAGAGCCGGAGCCCTTTACACCT...\n",
      "20       GGTTGGGCTTAACCGGCGGCTCAATTCCATCGCGACCGCTTAGAAT...\n",
      "21       TTAATTACTAACGGTTCTTGAAACCCGGGAGTCGGATTAGCAAAAA...\n",
      "22       TTTGCTACTCATTATGGTGTTGGATGCTTATAAATAAGTCTGACCA...\n",
      "23       GAAATATGAACTATCTATTTCATACGCTGAACAGATGGTCGGCCTG...\n",
      "24       AACCCGGAAGTGGCGCCGCGGATGGTGACGAAGCCTATGGTCTAAG...\n",
      "25       GCACCACGTCCAGTCCGCCAGGACCTTTAAGACAGAGAACGAACCG...\n",
      "26       GCGTGATGCGATCGTAGCGTGTAAACATCGCTCAGGAAAATAGTAA...\n",
      "27       ATTCTACGGAACGGTGCCCTCCTCGCATCCTTCATGGCCGTAGCGA...\n",
      "28       CGCACCTCCCCTTGATTGCGACAACAGTATGTGCACACCACTAACC...\n",
      "29       AGTTATGACTAGGAATGACTGAACAGATGGTCGGAGTGTCTGCTAT...\n",
      "                               ...                        \n",
      "59970    CGCTCAGCCCGCATTGTCTGAACAGATGGTCGGAGCTCTCGGACGC...\n",
      "59971    TATTGTCAAAATATAACGATCAACAGGATGAGTCACCTAAGCGTAC...\n",
      "59972    AATAGACAGTTCAGGGAATAGGGTATCATATATACATTAGTCATGA...\n",
      "59973    TCTATCTATAGAATAGGGTATCATATATCAGAAGGAATCAAATGAG...\n",
      "59974    TCAAAGCATATTGAAACAAGGTGGTATAATCTTTATAGAACCCGGA...\n",
      "59975    GCATGCTAGTTTCAATTAAGCCAACCACCCGAGACATTTATCTCTA...\n",
      "59976    TTTCTTATATACACTTGAGGATCAAAAACCTGAGACCAAACCCGGA...\n",
      "59977    TATACACGAATGCATTAGCGTATTCTCCGTAAAGCAATTAACGTTC...\n",
      "59978    TTGGGGTATTATAGCCATAAATAGGGTATCATATATTTGATCAAGT...\n",
      "59979    AGGCGTACTTTCTAATAGGGTATCATATATATGTTCTTCGGGCATA...\n",
      "59980    TCGGACACTCGGTTACATGTAAGATCGTGTGCTCCAGGATCCTGAT...\n",
      "59981    TGTTGTCCTCGAGATCAGGTGTTATCAAGAGTATGTCATATGGAGT...\n",
      "59982    GCCCTGTTTCCCGATTCATAGAGCTAACCCGGAAGTGATGAATAGG...\n",
      "59983    GCAATTAAAATACGGGGGAACAGCATACGCTGAACAGATGGTCGGC...\n",
      "59984    ACTCAGAACGAGGGCTTAACGCAGTCGCTGAATAGGAATTTTTACT...\n",
      "59985    AATTCTTCTGAAGCACATTCACGGATGCCTGAACAGATGGTCGGTG...\n",
      "59986    TTTTACCACAACGGCTTTGGACTACTAGAGCGACAAAAGAAGCAGA...\n",
      "59987    GCACTATCTAAGGATGTACATTGGATGCTACTGATAAATAGGGTAT...\n",
      "59988    CTTCCCGCTAGTGTAATGAGAATAGGGTATCATATATCCTTAGGGT...\n",
      "59989    AGTTAAGGAACTTCACCCAGTAAAACCCGGAAGTGACTCTAAGCCA...\n",
      "59990    ATAAGGTCCCGCAAAAGAACCGTGATACGTGCAAACGTCTTAGCGC...\n",
      "59991    GACATTTCTTATGAAAACAATGCAGGTGGACTAGCTGATCGGTATC...\n",
      "59992    GTACTAACCCGGAAGTGTCTCGCGGAGGTCTCTGTATCAATAGGGT...\n",
      "59993    CACTGAACAGATGGTCGGCCGGTCCCCGTCCGTAGGGTTCAGATAC...\n",
      "59994    AAGGCCATCAAAAAAAGACCCTGATGGCCAGAAGAAATCGGAACCC...\n",
      "59995    ACCGACCCTCCTCTTACAGTTCACGAATAGGGTATCATATATCGAA...\n",
      "59996    ATAGTTGTACAACCCGGAAGTGATTATCAGATAAGTACCAGAATAG...\n",
      "59997    CGAAGGCTGAACAGATGGTCGGAATTCGGAAACTCGGTTAACCCGG...\n",
      "59998    TTGTCTACTGTGAAACCCGGAAGTGCTTTATTGTAATCTTCCTAGC...\n",
      "59999    AAAGCTGGTTCTGGTGTCCGAACCCGGAAGTGGGGTCTCCCCAGCT...\n",
      "Name: 0, Length: 60000, dtype: object\n"
     ]
    }
   ],
   "source": [
    "print temp_sequences[0]"
   ]
  },
  {
   "cell_type": "code",
   "execution_count": 7,
   "metadata": {},
   "outputs": [],
   "source": [
    "dict_i = {\"A\" : 0, \"C\": 1, \"G\": 2, \"T\" : 3}"
   ]
  },
  {
   "cell_type": "code",
   "execution_count": 8,
   "metadata": {},
   "outputs": [],
   "source": [
    "def one_hot_encode(s):\n",
    "    i=0\n",
    "    ohe = np.zeros((len(s), 4))\n",
    "    for k in s:\n",
    "        ohe[i,dict_i[k]] = 1\n",
    "        i+=1\n",
    "    return ohe"
   ]
  },
  {
   "cell_type": "code",
   "execution_count": 9,
   "metadata": {},
   "outputs": [
    {
     "data": {
      "text/plain": [
       "(60000, 200, 4)"
      ]
     },
     "execution_count": 9,
     "metadata": {},
     "output_type": "execute_result"
    }
   ],
   "source": [
    "ohe_sequences = np.array([one_hot_encode(s) for s in temp_sequences])\n",
    "ohe_sequences.shape"
   ]
  },
  {
   "cell_type": "code",
   "execution_count": 10,
   "metadata": {},
   "outputs": [],
   "source": [
    "from sklearn.model_selection import train_test_split\n",
    "train_x, test_x, train_y, test_y = train_test_split(ohe_sequences, temp_target, test_size = 0.25, random_state = 42, shuffle=True)"
   ]
  },
  {
   "cell_type": "code",
   "execution_count": 11,
   "metadata": {},
   "outputs": [
    {
     "name": "stderr",
     "output_type": "stream",
     "text": [
      "Using TensorFlow backend.\n"
     ]
    }
   ],
   "source": [
    "from keras.models import Sequential\n",
    "from keras.layers import Dense\n",
    "from keras.layers import Conv1D\n",
    "from keras.layers import MaxPooling1D\n",
    "from keras.layers import Dropout,Flatten\n",
    "from sklearn.utils import shuffle\n",
    "from sklearn.model_selection import train_test_split"
   ]
  },
  {
   "cell_type": "code",
   "execution_count": 12,
   "metadata": {},
   "outputs": [
    {
     "name": "stdout",
     "output_type": "stream",
     "text": [
      "_________________________________________________________________\n",
      "Layer (type)                 Output Shape              Param #   \n",
      "=================================================================\n",
      "conv1d_1 (Conv1D)            (None, 189, 40)           1960      \n",
      "=================================================================\n",
      "Total params: 1,960\n",
      "Trainable params: 1,960\n",
      "Non-trainable params: 0\n",
      "_________________________________________________________________\n"
     ]
    }
   ],
   "source": [
    "model = Sequential()\n",
    "model.add(Conv1D(filters=40, kernel_size=12, activation='relu', input_shape=(200,4)))\n",
    "model.summary()"
   ]
  },
  {
   "cell_type": "code",
   "execution_count": 13,
   "metadata": {},
   "outputs": [],
   "source": [
    "model.add(MaxPooling1D(pool_size=189, strides=1))"
   ]
  },
  {
   "cell_type": "code",
   "execution_count": 14,
   "metadata": {},
   "outputs": [],
   "source": [
    "model.add(Dense(200,  activation='relu'))\n",
    "model.add(Dropout(0.5))\n",
    "model.add(Flatten())"
   ]
  },
  {
   "cell_type": "code",
   "execution_count": 15,
   "metadata": {},
   "outputs": [],
   "source": [
    "model.add(Dense(1, activation = \"sigmoid\"))"
   ]
  },
  {
   "cell_type": "code",
   "execution_count": 16,
   "metadata": {},
   "outputs": [
    {
     "name": "stdout",
     "output_type": "stream",
     "text": [
      "_________________________________________________________________\n",
      "Layer (type)                 Output Shape              Param #   \n",
      "=================================================================\n",
      "conv1d_1 (Conv1D)            (None, 189, 40)           1960      \n",
      "_________________________________________________________________\n",
      "max_pooling1d_1 (MaxPooling1 (None, 1, 40)             0         \n",
      "_________________________________________________________________\n",
      "dense_1 (Dense)              (None, 1, 200)            8200      \n",
      "_________________________________________________________________\n",
      "dropout_1 (Dropout)          (None, 1, 200)            0         \n",
      "_________________________________________________________________\n",
      "flatten_1 (Flatten)          (None, 200)               0         \n",
      "_________________________________________________________________\n",
      "dense_2 (Dense)              (None, 1)                 201       \n",
      "=================================================================\n",
      "Total params: 10,361\n",
      "Trainable params: 10,361\n",
      "Non-trainable params: 0\n",
      "_________________________________________________________________\n"
     ]
    }
   ],
   "source": [
    "model.summary()"
   ]
  },
  {
   "cell_type": "code",
   "execution_count": 17,
   "metadata": {},
   "outputs": [],
   "source": [
    "model.compile(loss='binary_crossentropy', optimizer='Adam',metrics=['accuracy'])"
   ]
  },
  {
   "cell_type": "code",
   "execution_count": null,
   "metadata": {},
   "outputs": [
    {
     "name": "stdout",
     "output_type": "stream",
     "text": [
      "Epoch 1/10\n"
     ]
    }
   ],
   "source": [
    "model.fit(train_x, train_y, epochs=10, verbose=1)"
   ]
  },
  {
   "cell_type": "code",
   "execution_count": null,
   "metadata": {},
   "outputs": [],
   "source": [
    "scores = model.evaluate(test_x, test_y)\n",
    "print (\"Test loss \", scores[0])\n",
    "print (\"Test acc \", scores[1])"
   ]
  },
  {
   "cell_type": "code",
   "execution_count": null,
   "metadata": {},
   "outputs": [],
   "source": []
  },
  {
   "cell_type": "code",
   "execution_count": null,
   "metadata": {},
   "outputs": [],
   "source": []
  }
 ],
 "metadata": {
  "kernelspec": {
   "display_name": "Python 2",
   "language": "python",
   "name": "python2"
  },
  "language_info": {
   "codemirror_mode": {
    "name": "ipython",
    "version": 2
   },
   "file_extension": ".py",
   "mimetype": "text/x-python",
   "name": "python",
   "nbconvert_exporter": "python",
   "pygments_lexer": "ipython2",
   "version": "2.7.15"
  }
 },
 "nbformat": 4,
 "nbformat_minor": 2
}
