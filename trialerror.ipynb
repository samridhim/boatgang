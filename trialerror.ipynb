{
 "cells": [
  {
   "cell_type": "code",
   "execution_count": 1,
   "metadata": {},
   "outputs": [],
   "source": [
    "from Bio import SeqIO\n",
    "import numpy as np\n",
    "temp_sequences = []\n",
    "for record in SeqIO.parse(\"/home/samridhi/boatgang/sequences.fa\", \"fasta\"):\n",
    "    temp_sequences.append(str(record.seq))"
   ]
  },
  {
   "cell_type": "code",
   "execution_count": 2,
   "metadata": {},
   "outputs": [],
   "source": [
    "import pandas as pd"
   ]
  },
  {
   "cell_type": "code",
   "execution_count": 3,
   "metadata": {},
   "outputs": [],
   "source": [
    "df = pd.read_csv(\"/home/samridhi/boatgang/labels.txt\", sep=\"\\t\")"
   ]
  },
  {
   "cell_type": "code",
   "execution_count": 4,
   "metadata": {},
   "outputs": [
    {
     "name": "stdout",
     "output_type": "stream",
     "text": [
      "GGGCGATATTCACTGCTGGGACACATACTTGAAGTCAATCTCTGACTGAACAGATGGTCGGGAACTCCTTCACTCATACGATTTTAAAATCTAAGCAATCCTGTAGTTTGCGTACCTTCTCAAACCCGGAAGTGTTGACCGGTTCGTTGACGATAGAAATAAAAGCCTTGAATCTTTTTTTACATTAATTCAACCTAGTC\n",
      "<type 'str'>\n"
     ]
    }
   ],
   "source": [
    "print temp_sequences[0]\n",
    "print type(temp_sequences[0])"
   ]
  },
  {
   "cell_type": "code",
   "execution_count": 10,
   "metadata": {},
   "outputs": [],
   "source": [
    "temp_target = df['task1']\n",
    "temp_sequence = pd.DataFrame(temp_sequences)\n",
    "temp_sequence = temp_sequence.join(temp_target)\n",
    "temp_sequence.to_csv(\"mycsv.csv\")"
   ]
  },
  {
   "cell_type": "code",
   "execution_count": 6,
   "metadata": {},
   "outputs": [
    {
     "name": "stdout",
     "output_type": "stream",
     "text": [
      "GGGCGATATTCACTGCTGGGACACATACTTGAAGTCAATCTCTGACTGAACAGATGGTCGGGAACTCCTTCACTCATACGATTTTAAAATCTAAGCAATCCTGTAGTTTGCGTACCTTCTCAAACCCGGAAGTGTTGACCGGTTCGTTGACGATAGAAATAAAAGCCTTGAATCTTTTTTTACATTAATTCAACCTAGTC\n"
     ]
    }
   ],
   "source": [
    "print temp_sequences[0]"
   ]
  },
  {
   "cell_type": "code",
   "execution_count": 7,
   "metadata": {},
   "outputs": [],
   "source": [
    "dict_i = {\"A\" : 0, \"C\": 1, \"G\": 2, \"T\" : 3}"
   ]
  },
  {
   "cell_type": "code",
   "execution_count": 8,
   "metadata": {},
   "outputs": [],
   "source": [
    "def one_hot_encode(s):\n",
    "    i=0\n",
    "    ohe = np.zeros((len(s), 4))\n",
    "    for k in s:\n",
    "        ohe[i,dict_i[k]] = 1\n",
    "        i+=1\n",
    "    return ohe"
   ]
  },
  {
   "cell_type": "code",
   "execution_count": 9,
   "metadata": {},
   "outputs": [
    {
     "data": {
      "text/plain": [
       "(60000, 200, 4)"
      ]
     },
     "execution_count": 9,
     "metadata": {},
     "output_type": "execute_result"
    }
   ],
   "source": [
    "ohe_sequences = np.array([one_hot_encode(s) for s in temp_sequences])\n",
    "ohe_sequences.shape"
   ]
  },
  {
   "cell_type": "code",
   "execution_count": 22,
   "metadata": {},
   "outputs": [],
   "source": [
    "from sklearn.model_selection import train_test_split\n",
    "train_x, test_x, train_y, test_y = train_test_split(ohe_sequences, temp_target, test_size = 0.25, random_state = 42)"
   ]
  },
  {
   "cell_type": "code",
   "execution_count": 23,
   "metadata": {},
   "outputs": [],
   "source": [
    "from keras.models import Sequential\n",
    "from keras.layers import Dense\n",
    "from keras.layers import Conv1D\n",
    "from keras.layers import MaxPooling1D\n",
    "from keras.layers import Dropout,Flatten\n",
    "from sklearn.utils import shuffle\n",
    "from sklearn.model_selection import train_test_split"
   ]
  },
  {
   "cell_type": "code",
   "execution_count": 36,
   "metadata": {},
   "outputs": [
    {
     "name": "stdout",
     "output_type": "stream",
     "text": [
      "_________________________________________________________________\n",
      "Layer (type)                 Output Shape              Param #   \n",
      "=================================================================\n",
      "conv1d_3 (Conv1D)            (None, 189, 40)           1960      \n",
      "=================================================================\n",
      "Total params: 1,960\n",
      "Trainable params: 1,960\n",
      "Non-trainable params: 0\n",
      "_________________________________________________________________\n"
     ]
    }
   ],
   "source": [
    "model = Sequential()\n",
    "model.add(Conv1D(filters=40, kernel_size=12, activation='relu', input_shape=(200,4)))\n",
    "model.summary()"
   ]
  },
  {
   "cell_type": "code",
   "execution_count": 37,
   "metadata": {},
   "outputs": [],
   "source": [
    "model.add(MaxPooling1D(pool_size=189, strides=1))"
   ]
  },
  {
   "cell_type": "code",
   "execution_count": 38,
   "metadata": {},
   "outputs": [],
   "source": [
    "model.add(Dense(200,  activation='relu'))\n",
    "model.add(Dropout(0.5))\n",
    "model.add(Flatten())"
   ]
  },
  {
   "cell_type": "code",
   "execution_count": 39,
   "metadata": {},
   "outputs": [],
   "source": [
    "model.add(Dense(1, activation = \"sigmoid\"))"
   ]
  },
  {
   "cell_type": "code",
   "execution_count": 40,
   "metadata": {},
   "outputs": [
    {
     "name": "stdout",
     "output_type": "stream",
     "text": [
      "_________________________________________________________________\n",
      "Layer (type)                 Output Shape              Param #   \n",
      "=================================================================\n",
      "conv1d_3 (Conv1D)            (None, 189, 40)           1960      \n",
      "_________________________________________________________________\n",
      "max_pooling1d_3 (MaxPooling1 (None, 1, 40)             0         \n",
      "_________________________________________________________________\n",
      "dense_5 (Dense)              (None, 1, 200)            8200      \n",
      "_________________________________________________________________\n",
      "dropout_3 (Dropout)          (None, 1, 200)            0         \n",
      "_________________________________________________________________\n",
      "flatten_3 (Flatten)          (None, 200)               0         \n",
      "_________________________________________________________________\n",
      "dense_6 (Dense)              (None, 1)                 201       \n",
      "=================================================================\n",
      "Total params: 10,361\n",
      "Trainable params: 10,361\n",
      "Non-trainable params: 0\n",
      "_________________________________________________________________\n"
     ]
    }
   ],
   "source": [
    "model.summary()"
   ]
  },
  {
   "cell_type": "code",
   "execution_count": 41,
   "metadata": {},
   "outputs": [],
   "source": [
    "model.compile(loss='binary_crossentropy', optimizer='Adam',metrics=['accuracy'])"
   ]
  },
  {
   "cell_type": "code",
   "execution_count": 42,
   "metadata": {},
   "outputs": [
    {
     "name": "stdout",
     "output_type": "stream",
     "text": [
      "Epoch 1/10\n",
      "45000/45000 [==============================] - 5s 118us/step - loss: 0.1140 - acc: 0.9599\n",
      "Epoch 2/10\n",
      "45000/45000 [==============================] - 5s 106us/step - loss: 0.0260 - acc: 0.9954\n",
      "Epoch 3/10\n",
      "45000/45000 [==============================] - 5s 109us/step - loss: 0.0237 - acc: 0.9958\n",
      "Epoch 4/10\n",
      "45000/45000 [==============================] - 5s 109us/step - loss: 0.0223 - acc: 0.9962\n",
      "Epoch 5/10\n",
      "45000/45000 [==============================] - 5s 115us/step - loss: 0.0215 - acc: 0.9961\n",
      "Epoch 6/10\n",
      "45000/45000 [==============================] - 5s 114us/step - loss: 0.0202 - acc: 0.9961\n",
      "Epoch 7/10\n",
      "45000/45000 [==============================] - 5s 113us/step - loss: 0.0196 - acc: 0.9962\n",
      "Epoch 8/10\n",
      "45000/45000 [==============================] - 5s 107us/step - loss: 0.0186 - acc: 0.9961\n",
      "Epoch 9/10\n",
      "45000/45000 [==============================] - 5s 108us/step - loss: 0.0179 - acc: 0.9961\n",
      "Epoch 10/10\n",
      "45000/45000 [==============================] - 5s 107us/step - loss: 0.0157 - acc: 0.9961\n"
     ]
    },
    {
     "data": {
      "text/plain": [
       "<keras.callbacks.History at 0x7fcbc835fb90>"
      ]
     },
     "execution_count": 42,
     "metadata": {},
     "output_type": "execute_result"
    }
   ],
   "source": [
    "model.fit(train_x, train_y, epochs=10, verbose=1)"
   ]
  },
  {
   "cell_type": "code",
   "execution_count": 43,
   "metadata": {},
   "outputs": [
    {
     "name": "stdout",
     "output_type": "stream",
     "text": [
      "15000/15000 [==============================] - 1s 48us/step\n",
      "('Test loss ', 0.027899882172172267)\n",
      "('Test acc ', 0.995)\n"
     ]
    }
   ],
   "source": [
    "scores = model.evaluate(test_x, test_y)\n",
    "print (\"Test loss \", scores[0])\n",
    "print (\"Test acc \", scores[1])"
   ]
  },
  {
   "cell_type": "code",
   "execution_count": null,
   "metadata": {},
   "outputs": [],
   "source": []
  }
 ],
 "metadata": {
  "kernelspec": {
   "display_name": "Python 2",
   "language": "python",
   "name": "python2"
  },
  "language_info": {
   "codemirror_mode": {
    "name": "ipython",
    "version": 2
   },
   "file_extension": ".py",
   "mimetype": "text/x-python",
   "name": "python",
   "nbconvert_exporter": "python",
   "pygments_lexer": "ipython2",
   "version": "2.7.15"
  }
 },
 "nbformat": 4,
 "nbformat_minor": 2
}
